{
 "cells": [
  {
   "cell_type": "markdown",
   "metadata": {},
   "source": [
    "# Analysis of so6 air traffic file"
   ]
  },
  {
   "cell_type": "markdown",
   "metadata": {},
   "source": [
    "#### <br> Load the so6 file as a pandas dataframe"
   ]
  },
  {
   "cell_type": "code",
   "execution_count": 1,
   "metadata": {},
   "outputs": [
    {
     "data": {
      "text/html": [
       "<div>\n",
       "<style scoped>\n",
       "    .dataframe tbody tr th:only-of-type {\n",
       "        vertical-align: middle;\n",
       "    }\n",
       "\n",
       "    .dataframe tbody tr th {\n",
       "        vertical-align: top;\n",
       "    }\n",
       "\n",
       "    .dataframe thead th {\n",
       "        text-align: right;\n",
       "    }\n",
       "</style>\n",
       "<table border=\"1\" class=\"dataframe\">\n",
       "  <thead>\n",
       "    <tr style=\"text-align: right;\">\n",
       "      <th></th>\n",
       "      <th>callsign</th>\n",
       "      <th>datetime_begin</th>\n",
       "      <th>datetime_end</th>\n",
       "      <th>flight_origin</th>\n",
       "      <th>flight_destination</th>\n",
       "      <th>fl_begin</th>\n",
       "      <th>fl_end</th>\n",
       "      <th>lat_begin</th>\n",
       "      <th>lat_end</th>\n",
       "      <th>lon_begin</th>\n",
       "      <th>lon_end</th>\n",
       "      <th>aircraft_type</th>\n",
       "      <th>length</th>\n",
       "      <th>flight_identifier</th>\n",
       "    </tr>\n",
       "  </thead>\n",
       "  <tbody>\n",
       "    <tr>\n",
       "      <th>0</th>\n",
       "      <td>HKS147</td>\n",
       "      <td>2018-03-01 14:25:00</td>\n",
       "      <td>2018-03-01 14:25:44</td>\n",
       "      <td>ENXU</td>\n",
       "      <td>ENXN</td>\n",
       "      <td>2</td>\n",
       "      <td>1</td>\n",
       "      <td>59.445833</td>\n",
       "      <td>59.462500</td>\n",
       "      <td>2.344444</td>\n",
       "      <td>2.365278</td>\n",
       "      <td>S92</td>\n",
       "      <td>1.184730</td>\n",
       "      <td>215700734</td>\n",
       "    </tr>\n",
       "    <tr>\n",
       "      <th>3</th>\n",
       "      <td>RYR8005</td>\n",
       "      <td>2018-03-01 06:41:00</td>\n",
       "      <td>2018-03-01 06:41:45</td>\n",
       "      <td>LEAL</td>\n",
       "      <td>EGPD</td>\n",
       "      <td>1</td>\n",
       "      <td>13</td>\n",
       "      <td>38.282222</td>\n",
       "      <td>38.275278</td>\n",
       "      <td>-0.558056</td>\n",
       "      <td>-0.525556</td>\n",
       "      <td>B738</td>\n",
       "      <td>1.586456</td>\n",
       "      <td>215689750</td>\n",
       "    </tr>\n",
       "    <tr>\n",
       "      <th>4</th>\n",
       "      <td>RYR8005</td>\n",
       "      <td>2018-03-01 06:41:45</td>\n",
       "      <td>2018-03-01 06:41:55</td>\n",
       "      <td>LEAL</td>\n",
       "      <td>EGPD</td>\n",
       "      <td>13</td>\n",
       "      <td>20</td>\n",
       "      <td>38.275278</td>\n",
       "      <td>38.273056</td>\n",
       "      <td>-0.525556</td>\n",
       "      <td>-0.514722</td>\n",
       "      <td>B738</td>\n",
       "      <td>0.527418</td>\n",
       "      <td>215689750</td>\n",
       "    </tr>\n",
       "    <tr>\n",
       "      <th>5</th>\n",
       "      <td>RYR8005</td>\n",
       "      <td>2018-03-01 06:41:55</td>\n",
       "      <td>2018-03-01 06:42:03</td>\n",
       "      <td>LEAL</td>\n",
       "      <td>EGPD</td>\n",
       "      <td>20</td>\n",
       "      <td>20</td>\n",
       "      <td>38.273056</td>\n",
       "      <td>38.270556</td>\n",
       "      <td>-0.514722</td>\n",
       "      <td>-0.503889</td>\n",
       "      <td>B738</td>\n",
       "      <td>0.531892</td>\n",
       "      <td>215689750</td>\n",
       "    </tr>\n",
       "    <tr>\n",
       "      <th>6</th>\n",
       "      <td>RYR8005</td>\n",
       "      <td>2018-03-01 06:42:03</td>\n",
       "      <td>2018-03-01 06:42:18</td>\n",
       "      <td>LEAL</td>\n",
       "      <td>EGPD</td>\n",
       "      <td>20</td>\n",
       "      <td>25</td>\n",
       "      <td>38.270556</td>\n",
       "      <td>38.266111</td>\n",
       "      <td>-0.503889</td>\n",
       "      <td>-0.481944</td>\n",
       "      <td>B738</td>\n",
       "      <td>1.067580</td>\n",
       "      <td>215689750</td>\n",
       "    </tr>\n",
       "  </tbody>\n",
       "</table>\n",
       "</div>"
      ],
      "text/plain": [
       "  callsign      datetime_begin        datetime_end flight_origin  \\\n",
       "0   HKS147 2018-03-01 14:25:00 2018-03-01 14:25:44          ENXU   \n",
       "3  RYR8005 2018-03-01 06:41:00 2018-03-01 06:41:45          LEAL   \n",
       "4  RYR8005 2018-03-01 06:41:45 2018-03-01 06:41:55          LEAL   \n",
       "5  RYR8005 2018-03-01 06:41:55 2018-03-01 06:42:03          LEAL   \n",
       "6  RYR8005 2018-03-01 06:42:03 2018-03-01 06:42:18          LEAL   \n",
       "\n",
       "  flight_destination  fl_begin  fl_end  lat_begin    lat_end  lon_begin  \\\n",
       "0               ENXN         2       1  59.445833  59.462500   2.344444   \n",
       "3               EGPD         1      13  38.282222  38.275278  -0.558056   \n",
       "4               EGPD        13      20  38.275278  38.273056  -0.525556   \n",
       "5               EGPD        20      20  38.273056  38.270556  -0.514722   \n",
       "6               EGPD        20      25  38.270556  38.266111  -0.503889   \n",
       "\n",
       "    lon_end aircraft_type    length  flight_identifier  \n",
       "0  2.365278           S92  1.184730          215700734  \n",
       "3 -0.525556          B738  1.586456          215689750  \n",
       "4 -0.514722          B738  0.527418          215689750  \n",
       "5 -0.503889          B738  0.531892          215689750  \n",
       "6 -0.481944          B738  1.067580          215689750  "
      ]
     },
     "execution_count": 1,
     "metadata": {},
     "output_type": "execute_result"
    }
   ],
   "source": [
    "import pandas as pd\n",
    "from datetime import datetime\n",
    "\n",
    "YOUR_SO6_FILE_PATH = 'your_so6_file.so6' \n",
    "\n",
    "columns = ['segment_identifier', 'flight_origin', 'flight_destination', 'aircraft_type', \n",
    "           'time_begin', 'time_end', 'fl_begin', 'fl_end', 'status', 'callsign', \n",
    "           'date_begin', 'date_end', 'lat_begin', 'lon_begin', 'lat_end', 'lon_end',\n",
    "           'flight_identifier', 'sequence', 'length', 'parity']\n",
    "\n",
    "parser = lambda x,y: pd.datetime.strptime(x + y, '%y%m%d%H%M%S')\n",
    "df = pd.read_csv(YOUR_SO6_FILE_PATH, sep=' ', header=None, names=columns, \n",
    "                 parse_dates={'datetime_begin': ['date_begin','time_begin'], \n",
    "                              'datetime_end': ['date_end','time_end']}, date_parser=parser)\n",
    "\n",
    "coord_cols = ['lat_begin','lon_begin','lat_end','lon_end']\n",
    "df[coord_cols] = df[coord_cols].apply(lambda x: x / 60)\n",
    "\n",
    "traffic_df = df[['callsign','datetime_begin','datetime_end','flight_origin','flight_destination',\n",
    "                'fl_begin', 'fl_end', 'lat_begin', 'lat_end', 'lon_begin', 'lon_end', \n",
    "                 'aircraft_type','length','flight_identifier']]\n",
    "traffic_df = traffic_df.query('length > 0') # filter null segments\n",
    "traffic_df.head()"
   ]
  },
  {
   "cell_type": "code",
   "execution_count": 2,
   "metadata": {},
   "outputs": [
    {
     "name": "stdout",
     "output_type": "stream",
     "text": [
      "Size of traffic table:  (1814103, 14)\n"
     ]
    }
   ],
   "source": [
    "print(\"Size of traffic table: \", traffic_df.shape)"
   ]
  },
  {
   "cell_type": "markdown",
   "metadata": {},
   "source": [
    "#### <br> Number of flights in the so6 file"
   ]
  },
  {
   "cell_type": "code",
   "execution_count": 5,
   "metadata": {},
   "outputs": [
    {
     "name": "stdout",
     "output_type": "stream",
     "text": [
      "25692 flights in so6 file\n"
     ]
    }
   ],
   "source": [
    "groups = traffic_df.groupby('flight_identifier') # callsign is not unique\n",
    "print(\"{} flights in so6 file\".format(len(groups)))"
   ]
  },
  {
   "cell_type": "markdown",
   "metadata": {},
   "source": [
    "#### <br> Number of segments per flight"
   ]
  },
  {
   "cell_type": "code",
   "execution_count": 6,
   "metadata": {},
   "outputs": [
    {
     "name": "stdout",
     "output_type": "stream",
     "text": [
      "Number of 4D segments per flight: min=1 max=138 mean=47.39265140899891\n"
     ]
    }
   ],
   "source": [
    "gsize = groups.size()\n",
    "print(\"Number of 4D segments per flight: min={} max={} mean={}\".format(gsize.min(), gsize.max(), gsize.mean()))"
   ]
  },
  {
   "cell_type": "markdown",
   "metadata": {},
   "source": [
    "#### <br> Length of flights (in nautical miles)"
   ]
  },
  {
   "cell_type": "code",
   "execution_count": 8,
   "metadata": {},
   "outputs": [
    {
     "name": "stdout",
     "output_type": "stream",
     "text": [
      "Length of flights: min=0.292157 max=7979.490984999998 mean=1031.4481642298122\n"
     ]
    }
   ],
   "source": [
    "glen = groups['length'].sum()\n",
    "print(\"Length of flights: min={} max={} mean={}\".format(glen.min(), glen.max(), glen.mean()))"
   ]
  },
  {
   "cell_type": "markdown",
   "metadata": {},
   "source": [
    "#### <br> Display the longest flight"
   ]
  },
  {
   "cell_type": "code",
   "execution_count": 9,
   "metadata": {},
   "outputs": [
    {
     "data": {
      "text/html": [
       "<div>\n",
       "<style scoped>\n",
       "    .dataframe tbody tr th:only-of-type {\n",
       "        vertical-align: middle;\n",
       "    }\n",
       "\n",
       "    .dataframe tbody tr th {\n",
       "        vertical-align: top;\n",
       "    }\n",
       "\n",
       "    .dataframe thead th {\n",
       "        text-align: right;\n",
       "    }\n",
       "</style>\n",
       "<table border=\"1\" class=\"dataframe\">\n",
       "  <thead>\n",
       "    <tr style=\"text-align: right;\">\n",
       "      <th></th>\n",
       "      <th>callsign</th>\n",
       "      <th>datetime_begin</th>\n",
       "      <th>datetime_end</th>\n",
       "      <th>flight_origin</th>\n",
       "      <th>flight_destination</th>\n",
       "      <th>fl_begin</th>\n",
       "      <th>fl_end</th>\n",
       "      <th>lat_begin</th>\n",
       "      <th>lat_end</th>\n",
       "      <th>lon_begin</th>\n",
       "      <th>lon_end</th>\n",
       "      <th>aircraft_type</th>\n",
       "      <th>length</th>\n",
       "      <th>flight_identifier</th>\n",
       "    </tr>\n",
       "  </thead>\n",
       "  <tbody>\n",
       "    <tr>\n",
       "      <th>787917</th>\n",
       "      <td>CSN300</td>\n",
       "      <td>2018-03-01 16:15:00</td>\n",
       "      <td>2018-03-01 16:15:05</td>\n",
       "      <td>KJFK</td>\n",
       "      <td>ZGGG</td>\n",
       "      <td>0</td>\n",
       "      <td>25</td>\n",
       "      <td>40.640278</td>\n",
       "      <td>40.700556</td>\n",
       "      <td>-73.778333</td>\n",
       "      <td>-73.752778</td>\n",
       "      <td>B77W</td>\n",
       "      <td>3.799054</td>\n",
       "      <td>215702552</td>\n",
       "    </tr>\n",
       "    <tr>\n",
       "      <th>787918</th>\n",
       "      <td>CSN300</td>\n",
       "      <td>2018-03-01 16:15:05</td>\n",
       "      <td>2018-03-01 16:15:28</td>\n",
       "      <td>KJFK</td>\n",
       "      <td>ZGGG</td>\n",
       "      <td>25</td>\n",
       "      <td>35</td>\n",
       "      <td>40.700556</td>\n",
       "      <td>40.717778</td>\n",
       "      <td>-73.752778</td>\n",
       "      <td>-73.745556</td>\n",
       "      <td>B77W</td>\n",
       "      <td>1.084287</td>\n",
       "      <td>215702552</td>\n",
       "    </tr>\n",
       "    <tr>\n",
       "      <th>787919</th>\n",
       "      <td>CSN300</td>\n",
       "      <td>2018-03-01 16:15:28</td>\n",
       "      <td>2018-03-01 16:15:58</td>\n",
       "      <td>KJFK</td>\n",
       "      <td>ZGGG</td>\n",
       "      <td>35</td>\n",
       "      <td>50</td>\n",
       "      <td>40.717778</td>\n",
       "      <td>40.751944</td>\n",
       "      <td>-73.745556</td>\n",
       "      <td>-73.730833</td>\n",
       "      <td>B77W</td>\n",
       "      <td>2.156504</td>\n",
       "      <td>215702552</td>\n",
       "    </tr>\n",
       "    <tr>\n",
       "      <th>787920</th>\n",
       "      <td>CSN300</td>\n",
       "      <td>2018-03-01 16:15:58</td>\n",
       "      <td>2018-03-01 16:16:38</td>\n",
       "      <td>KJFK</td>\n",
       "      <td>ZGGG</td>\n",
       "      <td>50</td>\n",
       "      <td>70</td>\n",
       "      <td>40.751944</td>\n",
       "      <td>40.803611</td>\n",
       "      <td>-73.730833</td>\n",
       "      <td>-73.709167</td>\n",
       "      <td>B77W</td>\n",
       "      <td>3.252551</td>\n",
       "      <td>215702552</td>\n",
       "    </tr>\n",
       "    <tr>\n",
       "      <th>787921</th>\n",
       "      <td>CSN300</td>\n",
       "      <td>2018-03-01 16:16:38</td>\n",
       "      <td>2018-03-01 16:18:00</td>\n",
       "      <td>KJFK</td>\n",
       "      <td>ZGGG</td>\n",
       "      <td>70</td>\n",
       "      <td>110</td>\n",
       "      <td>40.803611</td>\n",
       "      <td>40.924167</td>\n",
       "      <td>-73.709167</td>\n",
       "      <td>-73.658056</td>\n",
       "      <td>B77W</td>\n",
       "      <td>7.596043</td>\n",
       "      <td>215702552</td>\n",
       "    </tr>\n",
       "  </tbody>\n",
       "</table>\n",
       "</div>"
      ],
      "text/plain": [
       "       callsign      datetime_begin        datetime_end flight_origin  \\\n",
       "787917   CSN300 2018-03-01 16:15:00 2018-03-01 16:15:05          KJFK   \n",
       "787918   CSN300 2018-03-01 16:15:05 2018-03-01 16:15:28          KJFK   \n",
       "787919   CSN300 2018-03-01 16:15:28 2018-03-01 16:15:58          KJFK   \n",
       "787920   CSN300 2018-03-01 16:15:58 2018-03-01 16:16:38          KJFK   \n",
       "787921   CSN300 2018-03-01 16:16:38 2018-03-01 16:18:00          KJFK   \n",
       "\n",
       "       flight_destination  fl_begin  fl_end  lat_begin    lat_end  lon_begin  \\\n",
       "787917               ZGGG         0      25  40.640278  40.700556 -73.778333   \n",
       "787918               ZGGG        25      35  40.700556  40.717778 -73.752778   \n",
       "787919               ZGGG        35      50  40.717778  40.751944 -73.745556   \n",
       "787920               ZGGG        50      70  40.751944  40.803611 -73.730833   \n",
       "787921               ZGGG        70     110  40.803611  40.924167 -73.709167   \n",
       "\n",
       "          lon_end aircraft_type    length  flight_identifier  \n",
       "787917 -73.752778          B77W  3.799054          215702552  \n",
       "787918 -73.745556          B77W  1.084287          215702552  \n",
       "787919 -73.730833          B77W  2.156504          215702552  \n",
       "787920 -73.709167          B77W  3.252551          215702552  \n",
       "787921 -73.658056          B77W  7.596043          215702552  "
      ]
     },
     "execution_count": 9,
     "metadata": {},
     "output_type": "execute_result"
    }
   ],
   "source": [
    "traffic_df[traffic_df['flight_identifier'] == glen.idxmax()].head() # remove .head() to get all 4D segments"
   ]
  },
  {
   "cell_type": "markdown",
   "metadata": {},
   "source": [
    "#### <br> Display the top 10 aicraft types used in flights"
   ]
  },
  {
   "cell_type": "code",
   "execution_count": 9,
   "metadata": {},
   "outputs": [
    {
     "data": {
      "text/plain": [
       "B738    4595\n",
       "A320    4075\n",
       "A319    1925\n",
       "A321    1569\n",
       "E190     662\n",
       "DH8D     649\n",
       "B77W     553\n",
       "CRJ9     474\n",
       "B737     462\n",
       "A332     427\n",
       "Name: aircraft_type, dtype: int64"
      ]
     },
     "execution_count": 9,
     "metadata": {},
     "output_type": "execute_result"
    }
   ],
   "source": [
    "groups.first()['aircraft_type'].value_counts().nlargest(10)"
   ]
  },
  {
   "cell_type": "markdown",
   "metadata": {},
   "source": [
    "#### <br> Top 5 origin airports"
   ]
  },
  {
   "cell_type": "code",
   "execution_count": 20,
   "metadata": {},
   "outputs": [
    {
     "data": {
      "text/plain": [
       "EDDF    655\n",
       "LTBA    633\n",
       "LFPG    631\n",
       "EHAM    604\n",
       "EGLL    583\n",
       "Name: flight_origin, dtype: int64"
      ]
     },
     "execution_count": 20,
     "metadata": {},
     "output_type": "execute_result"
    }
   ],
   "source": [
    "groups.first()['flight_origin'].value_counts().nlargest(5)"
   ]
  },
  {
   "cell_type": "markdown",
   "metadata": {},
   "source": [
    "#### <br> Top 5 destination airports"
   ]
  },
  {
   "cell_type": "code",
   "execution_count": 21,
   "metadata": {},
   "outputs": [
    {
     "data": {
      "text/plain": [
       "EDDF    644\n",
       "LFPG    630\n",
       "LTBA    612\n",
       "EHAM    592\n",
       "LEMD    554\n",
       "Name: flight_destination, dtype: int64"
      ]
     },
     "execution_count": 21,
     "metadata": {},
     "output_type": "execute_result"
    }
   ],
   "source": [
    "groups.first()['flight_destination'].value_counts().nlargest(5)"
   ]
  },
  {
   "cell_type": "markdown",
   "metadata": {},
   "source": [
    "#### <br> Number of flights from one airport to another"
   ]
  },
  {
   "cell_type": "code",
   "execution_count": 30,
   "metadata": {},
   "outputs": [
    {
     "name": "stdout",
     "output_type": "stream",
     "text": [
      "Nb of flights from LFBO (Toulouse-Blagnac) to LFPO (Paris-Orly): 23\n"
     ]
    }
   ],
   "source": [
    "lfbo_lfpo = groups.first().query('flight_origin==\"LFBO\" and flight_destination==\"LFPO\"').index\n",
    "print(\"Nb of flights from LFBO (Toulouse-Blagnac) to LFPO (Paris-Orly): {}\".format(len(lfbo_lfpo)))"
   ]
  },
  {
   "cell_type": "markdown",
   "metadata": {},
   "source": [
    "#### <br> Most frequent city pair"
   ]
  },
  {
   "cell_type": "code",
   "execution_count": 16,
   "metadata": {},
   "outputs": [
    {
     "name": "stdout",
     "output_type": "stream",
     "text": [
      "37 flights for the top city pair: ('ENGM', 'ENVA')\n"
     ]
    }
   ],
   "source": [
    "from_to = groups.first().groupby(['flight_origin', 'flight_destination']).size()\n",
    "print(\"{} flights for the top city pair: {}\".format(from_to.max(), from_to.idxmax()))"
   ]
  },
  {
   "cell_type": "markdown",
   "metadata": {},
   "source": [
    "#### <br> Display all destinations from one given airport"
   ]
  },
  {
   "cell_type": "code",
   "execution_count": 56,
   "metadata": {},
   "outputs": [
    {
     "data": {
      "text/plain": [
       "array(['EBLG', 'EGSS', 'LFPG', 'EDDM', 'LFPO', 'LFRS', 'EHAM', 'EDDS',\n",
       "       'EGGD', 'EBBR', 'EDHI', 'EDDF', 'LPPT', 'EGKK', 'EGNR', 'EGLL',\n",
       "       'LIPZ', 'LEMD', 'LFLL', 'LFQQ', 'LEVT', 'LFST', 'LMML', 'GMMN',\n",
       "       'LFMK', 'DTTA', 'DAOO', 'LIRF', 'DAAG', 'EBCI', 'GCRR', 'VIDP',\n",
       "       'LSGG', 'LFML', 'LFCR', 'GMAD', 'EDNY', 'LFRK', 'LFRN', 'LFMT',\n",
       "       'LEZL', 'EGCC', 'LFMN', 'LFLX', 'UACC', 'EDDB', 'LFSB', 'LEBL',\n",
       "       'EGGW'], dtype=object)"
      ]
     },
     "execution_count": 56,
     "metadata": {},
     "output_type": "execute_result"
    }
   ],
   "source": [
    "groups.first().query('flight_origin==\"LFBO\"')['flight_destination'].unique()"
   ]
  }
 ],
 "metadata": {
  "kernelspec": {
   "display_name": "Python [default]",
   "language": "python",
   "name": "python3"
  },
  "language_info": {
   "codemirror_mode": {
    "name": "ipython",
    "version": 3
   },
   "file_extension": ".py",
   "mimetype": "text/x-python",
   "name": "python",
   "nbconvert_exporter": "python",
   "pygments_lexer": "ipython3",
   "version": "3.6.5"
  }
 },
 "nbformat": 4,
 "nbformat_minor": 2
}
